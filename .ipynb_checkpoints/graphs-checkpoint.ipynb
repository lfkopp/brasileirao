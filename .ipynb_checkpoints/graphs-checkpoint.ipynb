{
 "cells": [
  {
   "cell_type": "code",
   "execution_count": 161,
   "metadata": {},
   "outputs": [],
   "source": [
    "import pandas as pd\n",
    "import numpy as np\n",
    "import matplotlib.pyplot as plt\n"
   ]
  },
  {
   "cell_type": "code",
   "execution_count": 162,
   "metadata": {},
   "outputs": [],
   "source": [
    "short = pd.read_csv('brasileirao_2019.txt',sep=';', index_col=False)\n",
    "short.data = pd.to_datetime(short.data)"
   ]
  },
  {
   "cell_type": "code",
   "execution_count": 163,
   "metadata": {},
   "outputs": [
    {
     "data": {
      "text/html": [
       "<div>\n",
       "<style scoped>\n",
       "    .dataframe tbody tr th:only-of-type {\n",
       "        vertical-align: middle;\n",
       "    }\n",
       "\n",
       "    .dataframe tbody tr th {\n",
       "        vertical-align: top;\n",
       "    }\n",
       "\n",
       "    .dataframe thead th {\n",
       "        text-align: right;\n",
       "    }\n",
       "</style>\n",
       "<table border=\"1\" class=\"dataframe\">\n",
       "  <thead>\n",
       "    <tr style=\"text-align: right;\">\n",
       "      <th></th>\n",
       "      <th>data</th>\n",
       "      <th>time</th>\n",
       "      <th>1</th>\n",
       "      <th>2</th>\n",
       "      <th>3</th>\n",
       "      <th>4</th>\n",
       "      <th>5</th>\n",
       "      <th>6</th>\n",
       "      <th>7</th>\n",
       "      <th>8</th>\n",
       "      <th>...</th>\n",
       "      <th>11</th>\n",
       "      <th>12</th>\n",
       "      <th>13</th>\n",
       "      <th>14</th>\n",
       "      <th>15</th>\n",
       "      <th>16</th>\n",
       "      <th>17</th>\n",
       "      <th>18</th>\n",
       "      <th>19</th>\n",
       "      <th>20</th>\n",
       "    </tr>\n",
       "  </thead>\n",
       "  <tbody>\n",
       "    <tr>\n",
       "      <th>0</th>\n",
       "      <td>2019-04-29</td>\n",
       "      <td>SAO</td>\n",
       "      <td>0.09395</td>\n",
       "      <td>0.10325</td>\n",
       "      <td>0.08720</td>\n",
       "      <td>0.0663</td>\n",
       "      <td>0.04635</td>\n",
       "      <td>0.05195</td>\n",
       "      <td>0.08015</td>\n",
       "      <td>0.09895</td>\n",
       "      <td>...</td>\n",
       "      <td>0.05585</td>\n",
       "      <td>0.05070</td>\n",
       "      <td>0.03820</td>\n",
       "      <td>0.02620</td>\n",
       "      <td>0.01735</td>\n",
       "      <td>0.00965</td>\n",
       "      <td>0.00280</td>\n",
       "      <td>0.00075</td>\n",
       "      <td>0.00015</td>\n",
       "      <td>0.0000</td>\n",
       "    </tr>\n",
       "    <tr>\n",
       "      <th>1</th>\n",
       "      <td>2019-04-29</td>\n",
       "      <td>CHA</td>\n",
       "      <td>0.04260</td>\n",
       "      <td>0.07205</td>\n",
       "      <td>0.08410</td>\n",
       "      <td>0.0876</td>\n",
       "      <td>0.06940</td>\n",
       "      <td>0.05605</td>\n",
       "      <td>0.06690</td>\n",
       "      <td>0.08215</td>\n",
       "      <td>...</td>\n",
       "      <td>0.06675</td>\n",
       "      <td>0.06730</td>\n",
       "      <td>0.06265</td>\n",
       "      <td>0.05060</td>\n",
       "      <td>0.03205</td>\n",
       "      <td>0.01695</td>\n",
       "      <td>0.00855</td>\n",
       "      <td>0.00225</td>\n",
       "      <td>0.00010</td>\n",
       "      <td>0.0000</td>\n",
       "    </tr>\n",
       "    <tr>\n",
       "      <th>2</th>\n",
       "      <td>2019-04-29</td>\n",
       "      <td>CAM</td>\n",
       "      <td>0.01420</td>\n",
       "      <td>0.04240</td>\n",
       "      <td>0.07850</td>\n",
       "      <td>0.0934</td>\n",
       "      <td>0.08180</td>\n",
       "      <td>0.05615</td>\n",
       "      <td>0.02800</td>\n",
       "      <td>0.01195</td>\n",
       "      <td>...</td>\n",
       "      <td>0.07780</td>\n",
       "      <td>0.07750</td>\n",
       "      <td>0.08260</td>\n",
       "      <td>0.09810</td>\n",
       "      <td>0.09225</td>\n",
       "      <td>0.05150</td>\n",
       "      <td>0.02330</td>\n",
       "      <td>0.00695</td>\n",
       "      <td>0.00035</td>\n",
       "      <td>0.0000</td>\n",
       "    </tr>\n",
       "    <tr>\n",
       "      <th>3</th>\n",
       "      <td>2019-04-29</td>\n",
       "      <td>FLA</td>\n",
       "      <td>0.04725</td>\n",
       "      <td>0.07585</td>\n",
       "      <td>0.09010</td>\n",
       "      <td>0.0869</td>\n",
       "      <td>0.07000</td>\n",
       "      <td>0.06175</td>\n",
       "      <td>0.07170</td>\n",
       "      <td>0.07410</td>\n",
       "      <td>...</td>\n",
       "      <td>0.07530</td>\n",
       "      <td>0.06930</td>\n",
       "      <td>0.05695</td>\n",
       "      <td>0.03720</td>\n",
       "      <td>0.02460</td>\n",
       "      <td>0.01435</td>\n",
       "      <td>0.00660</td>\n",
       "      <td>0.00135</td>\n",
       "      <td>0.00015</td>\n",
       "      <td>0.0000</td>\n",
       "    </tr>\n",
       "    <tr>\n",
       "      <th>4</th>\n",
       "      <td>2019-04-29</td>\n",
       "      <td>GRE</td>\n",
       "      <td>0.00000</td>\n",
       "      <td>0.00000</td>\n",
       "      <td>0.00015</td>\n",
       "      <td>0.0012</td>\n",
       "      <td>0.00430</td>\n",
       "      <td>0.00950</td>\n",
       "      <td>0.01595</td>\n",
       "      <td>0.02880</td>\n",
       "      <td>...</td>\n",
       "      <td>0.02385</td>\n",
       "      <td>0.00465</td>\n",
       "      <td>0.01315</td>\n",
       "      <td>0.03825</td>\n",
       "      <td>0.06270</td>\n",
       "      <td>0.08205</td>\n",
       "      <td>0.09920</td>\n",
       "      <td>0.16335</td>\n",
       "      <td>0.20115</td>\n",
       "      <td>0.1572</td>\n",
       "    </tr>\n",
       "  </tbody>\n",
       "</table>\n",
       "<p>5 rows × 22 columns</p>\n",
       "</div>"
      ],
      "text/plain": [
       "        data time        1        2        3       4        5        6  \\\n",
       "0 2019-04-29  SAO  0.09395  0.10325  0.08720  0.0663  0.04635  0.05195   \n",
       "1 2019-04-29  CHA  0.04260  0.07205  0.08410  0.0876  0.06940  0.05605   \n",
       "2 2019-04-29  CAM  0.01420  0.04240  0.07850  0.0934  0.08180  0.05615   \n",
       "3 2019-04-29  FLA  0.04725  0.07585  0.09010  0.0869  0.07000  0.06175   \n",
       "4 2019-04-29  GRE  0.00000  0.00000  0.00015  0.0012  0.00430  0.00950   \n",
       "\n",
       "         7        8   ...         11       12       13       14       15  \\\n",
       "0  0.08015  0.09895   ...    0.05585  0.05070  0.03820  0.02620  0.01735   \n",
       "1  0.06690  0.08215   ...    0.06675  0.06730  0.06265  0.05060  0.03205   \n",
       "2  0.02800  0.01195   ...    0.07780  0.07750  0.08260  0.09810  0.09225   \n",
       "3  0.07170  0.07410   ...    0.07530  0.06930  0.05695  0.03720  0.02460   \n",
       "4  0.01595  0.02880   ...    0.02385  0.00465  0.01315  0.03825  0.06270   \n",
       "\n",
       "        16       17       18       19      20  \n",
       "0  0.00965  0.00280  0.00075  0.00015  0.0000  \n",
       "1  0.01695  0.00855  0.00225  0.00010  0.0000  \n",
       "2  0.05150  0.02330  0.00695  0.00035  0.0000  \n",
       "3  0.01435  0.00660  0.00135  0.00015  0.0000  \n",
       "4  0.08205  0.09920  0.16335  0.20115  0.1572  \n",
       "\n",
       "[5 rows x 22 columns]"
      ]
     },
     "execution_count": 163,
     "metadata": {},
     "output_type": "execute_result"
    }
   ],
   "source": [
    "short.head()"
   ]
  },
  {
   "cell_type": "code",
   "execution_count": 164,
   "metadata": {},
   "outputs": [],
   "source": [
    "last_short = short[short['data'] == max(short['data'])]"
   ]
  },
  {
   "cell_type": "code",
   "execution_count": 165,
   "metadata": {},
   "outputs": [],
   "source": [
    "short_final = last_short[last_short.columns[1:]].set_index('time')"
   ]
  },
  {
   "cell_type": "code",
   "execution_count": 166,
   "metadata": {},
   "outputs": [],
   "source": [
    "short_final.sort_values(by=[str(i) for i in list(range(20,0,-1))], inplace=True)"
   ]
  },
  {
   "cell_type": "code",
   "execution_count": 167,
   "metadata": {},
   "outputs": [
    {
     "data": {
      "text/plain": [
       "<matplotlib.axes._subplots.AxesSubplot at 0x1482bc2db00>"
      ]
     },
     "execution_count": 167,
     "metadata": {},
     "output_type": "execute_result"
    },
    {
     "data": {
      "image/png": "[encoded data removed]",
      "text/plain": [
       "<Figure size 1440x1080 with 1 Axes>"
      ]
     },
     "metadata": {
      "needs_background": "light"
     },
     "output_type": "display_data"
    }
   ],
   "source": [
    "short_final.plot(kind='bar',stacked=True,figsize=(20,15), colormap='autumn')"
   ]
  },
  {
   "cell_type": "code",
   "execution_count": 169,
   "metadata": {},
   "outputs": [],
   "source": [
    "short2 = short.set_index('data','time')"
   ]
  },
  {
   "cell_type": "code",
   "execution_count": null,
   "metadata": {},
   "outputs": [],
   "source": []
  }
 ],
 "metadata": {
  "kernelspec": {
   "display_name": "Python 3",
   "language": "python",
   "name": "python3"
  },
  "language_info": {
   "codemirror_mode": {
    "name": "ipython",
    "version": 3
   },
   "file_extension": ".py",
   "mimetype": "text/x-python",
   "name": "python",
   "nbconvert_exporter": "python",
   "pygments_lexer": "ipython3",
   "version": "3.7.1"
  }
 },
 "nbformat": 4,
 "nbformat_minor": 2
}
